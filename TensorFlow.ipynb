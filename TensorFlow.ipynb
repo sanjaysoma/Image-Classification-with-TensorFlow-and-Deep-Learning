{
 "cells": [
  {
   "cell_type": "markdown",
   "metadata": {
    "slideshow": null
   },
   "source": [
    "# Image Classification with TensorFlow"
   ]
  },
  {
   "cell_type": "markdown",
   "metadata": {
    "slideshow": null
   },
   "source": [
    "Image classification is a common task for deep learning and neural networks.  The raw features coming in are the pixel values.  These are simple enough to deal with, but it is difficult to connect pixel values to determining whether an image is of a cat.  Older methods used a lot of clever filters, but the current best-of-breed algorithms simply throw a lot of linear algebra at the problem.\n",
    "\n",
    "In this miniproject, you build a series of models to classify a series of images into one of ten classes. For expediency, these images are pretty small ($32\\times32\\times3$).  This can make classification a bit tricky&mdash;human performance is only about 94%.  Each of your models will be scored by comparing its accuracy to the accuracy of a reference model that we developed.  A score of 1 indicates that your model performs as well as the reference model; not that your accuracy is 100%!\n",
    "\n",
    "You will be given both a training set and a validation set.  Ground truth values are provided for the training set.  You should train your models on this set, and then make predictions for each of the validation images.  These predictions will be submitted to the grader."
   ]
  },
  {
   "cell_type": "code",
   "execution_count": 17,
   "metadata": {
    "collapsed": true,
    "slideshow": null
   },
   "outputs": [],
   "source": [
    "import numpy as np\n",
    "\n",
    "train_images = np.load(open('train_images.npy', 'rb'))\n",
    "train_labels = np.load(open('train_labels.npy', 'rb'))\n",
    "validation_images = np.load(open('validation_images.npy', 'rb'))"
   ]
  },
  {
   "cell_type": "code",
   "execution_count": 4,
   "metadata": {},
   "outputs": [
    {
     "data": {
      "text/plain": [
       "10000"
      ]
     },
     "execution_count": 4,
     "metadata": {},
     "output_type": "execute_result"
    }
   ],
   "source": [
    "len(validation_images)"
   ]
  },
  {
   "cell_type": "markdown",
   "metadata": {
    "slideshow": null
   },
   "source": [
    "The images are stored as four-dimensional arrays.  The first index indicates the image number, the second and third the $x$ and $y$ positions, and the fourth index the color channel.  Each pixel color is a floating point number between 0 and 1.  This convention allows us to view the images with matplotlib:"
   ]
  },
  {
   "cell_type": "code",
   "execution_count": 6,
   "metadata": {
    "slideshow": null
   },
   "outputs": [
    {
     "data": {
      "text/plain": [
       "<matplotlib.image.AxesImage at 0x7f6c2b62cd50>"
      ]
     },
     "execution_count": 6,
     "metadata": {},
     "output_type": "execute_result"
    },
    {
     "data": {
      "image/png": "[encoded data removed]",
      "text/plain": [
       "<Figure size 864x576 with 1 Axes>"
      ]
     },
     "metadata": {},
     "output_type": "display_data"
    }
   ],
   "source": [
    "matplotlib.pyplot.rcParams[\"axes.grid\"] = False  #  Remove the grid lines from the image.\n",
    "matplotlib.pyplot.imshow(train_images[0])"
   ]
  },
  {
   "cell_type": "markdown",
   "metadata": {
    "slideshow": null
   },
   "source": [
    "The classes have already been numbered 0-9 for us; those numbers are stored in the vector `train_labels`."
   ]
  },
  {
   "cell_type": "code",
   "execution_count": 35,
   "metadata": {
    "slideshow": null
   },
   "outputs": [
    {
     "data": {
      "text/plain": [
       "6"
      ]
     },
     "execution_count": 35,
     "metadata": {},
     "output_type": "execute_result"
    }
   ],
   "source": [
    "train_labels[0]"
   ]
  },
  {
   "cell_type": "markdown",
   "metadata": {
    "slideshow": null
   },
   "source": [
    "The human-readable names associated with this classes are"
   ]
  },
  {
   "cell_type": "code",
   "execution_count": 36,
   "metadata": {
    "collapsed": true,
    "slideshow": null
   },
   "outputs": [],
   "source": [
    "label_names = ['airplane', 'automobile', 'bird', 'cat', 'deer',\n",
    "               'dog', 'frog', 'horse', 'ship', 'truck']"
   ]
  },
  {
   "cell_type": "code",
   "execution_count": 19,
   "metadata": {
    "slideshow": null
   },
   "outputs": [
    {
     "data": {
      "text/plain": [
       "'frog'"
      ]
     },
     "execution_count": 19,
     "metadata": {},
     "output_type": "execute_result"
    }
   ],
   "source": [
    "label_names[train_labels[0]]"
   ]
  },
  {
   "cell_type": "markdown",
   "metadata": {
    "slideshow": null
   },
   "source": [
    "## Perceptual Delta"
   ]
  },
  {
   "cell_type": "markdown",
   "metadata": {
    "slideshow": null
   },
   "source": [
    "$$\\Delta C \\equiv \\sqrt{2 \\Delta R^2 + 4 \\Delta G^2 + 3 \\Delta B^2 + \\bar R\\left(\\Delta R^2 - \\Delta B^2 \\right)} $$\n",
    "where $(R_1, G_1, B_1)$ and $(R_2, G_2, B_2)$ are the RGB components of the two colors and\n",
    "$$\\begin{align}\n",
    "\\Delta R &= R_1 - R_2 \\\\\n",
    "\\Delta G &= G_1 - G_2 \\\\\n",
    "\\Delta B &= B_1 - B_2 \\\\\n",
    "\\bar R &= \\textstyle\\frac{1}{2}\\left(R_1 + R_2\\right)\n",
    "\\end{align}$$"
   ]
  },
  {
   "cell_type": "code",
   "execution_count": 5,
   "metadata": {
    "collapsed": true
   },
   "outputs": [],
   "source": [
    "import tensorflow as tf"
   ]
  },
  {
   "cell_type": "code",
   "execution_count": 19,
   "metadata": {},
   "outputs": [
    {
     "data": {
      "text/plain": [
       "array([0.23137255, 0.24313725, 0.24705882])"
      ]
     },
     "execution_count": 19,
     "metadata": {},
     "output_type": "execute_result"
    }
   ],
   "source": [
    "train_images[0][0][0]#(R,G,B)"
   ]
  },
  {
   "cell_type": "code",
   "execution_count": 6,
   "metadata": {
    "collapsed": true,
    "slideshow": null
   },
   "outputs": [],
   "source": [
    "@tf.function\n",
    "def c_delta(m,n):\n",
    "    r_2 = tf.square(tf.subtract(m[:,:,0], n[:,:,0]))\n",
    "    g_2 = tf.square(tf.subtract(m[:,:,1], n[:,:,1]))\n",
    "    b_2 = tf.square(tf.subtract(m[:,:,2], n[:,:,2]))\n",
    "    r_bar = tf.divide(tf.add(m[:,:,0], n[:,:,0]),2)\n",
    "    c_delta = tf.sqrt(2*r_2 + 4*g_2 + 3*b_2 + r_bar*(r_2-b_2))\n",
    "    return tf.reduce_sum(c_delta)/(32*32)\n",
    "\n",
    "\n",
    "@tf.function\n",
    "def delta_func(images, base):\n",
    "    return tf.map_fn(lambda x: c_delta(x,base),images)"
   ]
  },
  {
   "cell_type": "code",
   "execution_count": 8,
   "metadata": {},
   "outputs": [
    {
     "data": {
      "text/plain": [
       "<tf.Tensor: shape=(10,), dtype=float64, numpy=\n",
       "array([0.        , 0.80592714, 1.12634518, 0.46740693, 0.87121572,\n",
       "       0.70549779, 0.77343272, 0.82417262, 1.12911374, 0.90683418])>"
      ]
     },
     "execution_count": 8,
     "metadata": {},
     "output_type": "execute_result"
    }
   ],
   "source": [
    "delta_func(train_images[:10], train_images[0])"
   ]
  },
  {
   "cell_type": "markdown",
   "metadata": {
    "slideshow": null
   },
   "source": [
    "As stated, for two images, $I_1$ and $I_2$, we define the distance between $I_1$ and $I_2$ as the average $\\Delta C$ value over the whole image, that is:\n",
    "\n",
    "$$d(I_1, I_2) = \\frac{1}{N}\\sum_{p_j} \\Delta C(p_j)$$\n",
    "where the sum is over all pixels $p_j$, $\\Delta C(p_2)$ is the $\\Delta C$ value for the pixel $p_j$, and $N$ is the total number of pixels in each image ($N= 32\\times 32$ in our case).\n",
    "\n",
    "Using `delta_func` compute the distance between the first validation image and all of the training images."
   ]
  },
  {
   "cell_type": "code",
   "execution_count": 14,
   "metadata": {
    "collapsed": true,
    "slideshow": null
   },
   "outputs": [],
   "source": [
    "deltas = delta_func(train_images, validation_images[0])"
   ]
  },
  {
   "cell_type": "code",
   "execution_count": 23,
   "metadata": {
    "collapsed": true
   },
   "outputs": [],
   "source": [
    "nums = deltas.numpy()"
   ]
  },
  {
   "cell_type": "code",
   "execution_count": 28,
   "metadata": {
    "collapsed": true
   },
   "outputs": [],
   "source": [
    "indices = list(nums.argsort()[:100])"
   ]
  },
  {
   "cell_type": "markdown",
   "metadata": {
    "slideshow": null
   },
   "source": [
    "## Smallest delta model"
   ]
  },
  {
   "cell_type": "markdown",
   "metadata": {
    "slideshow": null
   },
   "source": [
    "Instead of comparing each validation image to each training image, let's generate a \"typical\" image for each class.  This typical image will be the one that minimizes the total (or average) perceptual delta from all training images in this class.  We could do that through some clever averaging, but let's treat it as a minimization problem so that we can do gradient descent.  \n",
    "\n",
    "This problem will have two steps, the first step is to train a typical image for each class in the training set, the second will be to make predictions on the validation set.  These predictions will be based on the closest \"typical\" image trained in the first step.\n",
    "\n",
    "Make the typical image a TensorFlow variable, starting with random pixel values.  It's this TensorFlow variable that we will train by performing gradient descent."
   ]
  },
  {
   "cell_type": "code",
   "execution_count": 35,
   "metadata": {
    "collapsed": true
   },
   "outputs": [],
   "source": [
    "sample = tf.Variable(np.load(open('typical_6.npy','rb')))"
   ]
  },
  {
   "cell_type": "code",
   "execution_count": 50,
   "metadata": {
    "slideshow": null
   },
   "outputs": [
    {
     "name": "stdout",
     "output_type": "stream",
     "text": [
      "Completed 12.1 KiB/12.1 KiB (141.6 KiB/s) with 1 file(s) remaining\r",
      "download: s3://dataincubator-course/miniprojects/tf/typical_6.npy to ./typical_6.npy\r\n"
     ]
    },
    {
     "data": {
      "text/plain": [
       "<matplotlib.image.AxesImage at 0x7f3244062e90>"
      ]
     },
     "execution_count": 50,
     "metadata": {},
     "output_type": "execute_result"
    },
    {
     "data": {
      "image/png": "[encoded data removed]",
      "text/plain": [
       "<Figure size 864x576 with 1 Axes>"
      ]
     },
     "metadata": {},
     "output_type": "display_data"
    }
   ],
   "source": [
    "!aws s3 cp s3://dataincubator-course/miniprojects/tf/typical_6.npy .\n",
    "matplotlib.pyplot.imshow(np.load(open('typical_6.npy','rb')))"
   ]
  },
  {
   "cell_type": "code",
   "execution_count": 51,
   "metadata": {
    "slideshow": null
   },
   "outputs": [
    {
     "data": {
      "image/png": "[encoded data removed]",
      "text/plain": [
       "<Figure size 864x576 with 4 Axes>"
      ]
     },
     "metadata": {},
     "output_type": "display_data"
    }
   ],
   "source": [
    "frogs = np.where(train_labels == 6)[0]   #  Get the indices for the frogs\n",
    "\n",
    "fig, ax = matplotlib.pyplot.subplots(2, 2)\n",
    "for i in range(4):\n",
    "    np.ravel(ax)[i].imshow(train_images[ frogs[i] ])\n",
    "\n",
    "matplotlib.pyplot.show()"
   ]
  },
  {
   "cell_type": "code",
   "execution_count": null,
   "metadata": {
    "collapsed": true
   },
   "outputs": [],
   "source": [
    "typical_ims = []\n",
    "for i in range(10):\n",
    "    img = tf.Variable(tf.random.uniform((32,32,3), dtype=tf.float64))\n",
    "    label = i\n",
    "    pics = np.where(train_labels == label)\n",
    "    ims = train_images[pics]\n",
    "\n",
    "    ##optimizer\n",
    "    optimizer = tf.keras.optimizers.SGD(learning_rate=0.1)\n",
    "    with tf.GradientTape() as tape:\n",
    "        loss = delta_func(ims, img)\n",
    "    vars_l = [img]\n",
    "    grads = tape.gradient(loss, vars_l)\n",
    "\n",
    "    # Process the gradients, for example cap them, etc.\n",
    "    # capped_grads = [MyCapper(g) for g in grads]\n",
    "    #processed_grads = [process_gradient(g) for g in grads]\n",
    "\n",
    "    # Ask the optimizer to apply the processed gradients.\n",
    "    optimizer.apply_gradients(zip(grads, vars_l))\n",
    "    typical_ims.append(img)"
   ]
  },
  {
   "cell_type": "code",
   "execution_count": 11,
   "metadata": {},
   "outputs": [
    {
     "data": {
      "text/plain": [
       "<tf.Tensor: shape=(32, 32, 3), dtype=float32, numpy=\n",
       "array([[[0.5731759 , 0.5614189 , 0.55283785],\n",
       "        [0.55956525, 0.5728549 , 0.594167  ],\n",
       "        [0.5302072 , 0.5304576 , 0.50054   ],\n",
       "        ...,\n",
       "        [0.64564157, 0.5789572 , 0.5092639 ],\n",
       "        [0.4456466 , 0.4630331 , 0.45315298],\n",
       "        [0.61837983, 0.57143414, 0.56724846]],\n",
       "\n",
       "       [[0.5845522 , 0.5769149 , 0.56259596],\n",
       "        [0.4106778 , 0.46849075, 0.45349795],\n",
       "        [0.56149566, 0.55800325, 0.4887231 ],\n",
       "        ...,\n",
       "        [0.59813374, 0.53349185, 0.47629458],\n",
       "        [0.49430692, 0.49281374, 0.4574802 ],\n",
       "        [0.53296113, 0.55179226, 0.49983656]],\n",
       "\n",
       "       [[0.62245846, 0.51136744, 0.536841  ],\n",
       "        [0.5461369 , 0.538463  , 0.5163116 ],\n",
       "        [0.5985729 , 0.58846295, 0.62114376],\n",
       "        ...,\n",
       "        [0.5853335 , 0.5633829 , 0.5433272 ],\n",
       "        [0.5200495 , 0.46354195, 0.43601787],\n",
       "        [0.63803405, 0.6202681 , 0.644656  ]],\n",
       "\n",
       "       ...,\n",
       "\n",
       "       [[0.55767524, 0.51908755, 0.5251459 ],\n",
       "        [0.52573574, 0.5037827 , 0.48432148],\n",
       "        [0.56719196, 0.5278791 , 0.5148952 ],\n",
       "        ...,\n",
       "        [0.4674443 , 0.45350617, 0.4219685 ],\n",
       "        [0.5001932 , 0.4720586 , 0.41683146],\n",
       "        [0.5196165 , 0.5103589 , 0.5046563 ]],\n",
       "\n",
       "       [[0.48542926, 0.4788854 , 0.45113084],\n",
       "        [0.6144707 , 0.5668775 , 0.54606235],\n",
       "        [0.51210785, 0.48702067, 0.45430315],\n",
       "        ...,\n",
       "        [0.38587752, 0.438867  , 0.56087214],\n",
       "        [0.3893489 , 0.4336069 , 0.37612113],\n",
       "        [0.56314635, 0.5366447 , 0.5709459 ]],\n",
       "\n",
       "       [[0.47019458, 0.48999196, 0.47480685],\n",
       "        [0.57254004, 0.5416348 , 0.53331995],\n",
       "        [0.46928626, 0.4594084 , 0.42178157],\n",
       "        ...,\n",
       "        [0.44502828, 0.45952067, 0.39089662],\n",
       "        [0.4573895 , 0.4521673 , 0.4140879 ],\n",
       "        [0.60144603, 0.5506408 , 0.58156836]]], dtype=float32)>"
      ]
     },
     "execution_count": 11,
     "metadata": {},
     "output_type": "execute_result"
    }
   ],
   "source": [
    "typical_ims = [tf.cast(typical_ims[i], tf.float32) for i in range(10)]\n",
    "typical_ims[1]"
   ]
  },
  {
   "cell_type": "code",
   "execution_count": 9,
   "metadata": {},
   "outputs": [
    {
     "data": {
      "text/plain": [
       "array([[[0.67826664, 0.6638198 , 0.6954306 ],\n",
       "        [0.6113198 , 0.59449863, 0.6113254 ],\n",
       "        [0.60185003, 0.5449062 , 0.5061275 ],\n",
       "        ...,\n",
       "        [0.40429756, 0.42553237, 0.38010707],\n",
       "        [0.4744237 , 0.4770546 , 0.4332734 ],\n",
       "        [0.43978232, 0.46738663, 0.4409763 ]],\n",
       "\n",
       "       [[0.5700213 , 0.48965698, 0.41674682],\n",
       "        [0.52459496, 0.51060843, 0.4682983 ],\n",
       "        [0.43675473, 0.50112563, 0.49355653],\n",
       "        ...,\n",
       "        [0.48100543, 0.5011369 , 0.47289863],\n",
       "        [0.44234   , 0.4737354 , 0.4737984 ],\n",
       "        [0.38011327, 0.41182178, 0.3686806 ]],\n",
       "\n",
       "       [[0.56862736, 0.4997024 , 0.38829768],\n",
       "        [0.6821952 , 0.64714473, 0.6600446 ],\n",
       "        [0.5624588 , 0.52853113, 0.48747528],\n",
       "        ...,\n",
       "        [0.4992168 , 0.46242532, 0.4246592 ],\n",
       "        [0.48095387, 0.476429  , 0.4949981 ],\n",
       "        [0.3979134 , 0.41258666, 0.36642486]],\n",
       "\n",
       "       ...,\n",
       "\n",
       "       [[0.5391002 , 0.5166617 , 0.5111878 ],\n",
       "        [0.46606135, 0.45829892, 0.42968678],\n",
       "        [0.41932943, 0.42116633, 0.39416292],\n",
       "        ...,\n",
       "        [0.48423725, 0.47984654, 0.46114337],\n",
       "        [0.5221152 , 0.503101  , 0.48983714],\n",
       "        [0.6105835 , 0.5488308 , 0.45411223]],\n",
       "\n",
       "       [[0.44471765, 0.5275662 , 0.571627  ],\n",
       "        [0.44745842, 0.44653425, 0.41424608],\n",
       "        [0.49879104, 0.501513  , 0.4977153 ],\n",
       "        ...,\n",
       "        [0.593143  , 0.5031741 , 0.55713844],\n",
       "        [0.5080635 , 0.46158364, 0.3810567 ],\n",
       "        [0.62139   , 0.5490273 , 0.43733758]],\n",
       "\n",
       "       [[0.546221  , 0.52152133, 0.49761558],\n",
       "        [0.6209558 , 0.5695604 , 0.60776174],\n",
       "        [0.5082733 , 0.49052042, 0.46496993],\n",
       "        ...,\n",
       "        [0.573663  , 0.5074588 , 0.48328394],\n",
       "        [0.5251406 , 0.5070336 , 0.48500544],\n",
       "        [0.43017873, 0.4886694 , 0.49381745]]], dtype=float32)"
      ]
     },
     "execution_count": 9,
     "metadata": {},
     "output_type": "execute_result"
    }
   ],
   "source": [
    "typical_ims[1].numpy()"
   ]
  },
  {
   "cell_type": "code",
   "execution_count": 16,
   "metadata": {},
   "outputs": [
    {
     "data": {
      "text/plain": [
       "10000"
      ]
     },
     "execution_count": 16,
     "metadata": {},
     "output_type": "execute_result"
    }
   ],
   "source": [
    "len(validation_images)"
   ]
  },
  {
   "cell_type": "code",
   "execution_count": 67,
   "metadata": {},
   "outputs": [
    {
     "data": {
      "text/plain": [
       "5"
      ]
     },
     "execution_count": 67,
     "metadata": {},
     "output_type": "execute_result"
    }
   ],
   "source": [
    "diff = [c_delta(typical_ims[i],tf.cast(validation_images[0], tf.float32)).numpy() for i in range(10)]\n",
    "np.argmin(np.asarray(diff)) "
   ]
  },
  {
   "cell_type": "code",
   "execution_count": 68,
   "metadata": {
    "collapsed": true
   },
   "outputs": [],
   "source": [
    "predicted_classes = []\n",
    "for im in validation_images:\n",
    "    im = tf.cast(im, tf.float32)\n",
    "    diff = [c_delta(typical_ims[i],im).numpy() for i in range(10)]\n",
    "    predicted_classes.append(np.argmin(np.asarray(diff)))    "
   ]
  },
  {
   "cell_type": "markdown",
   "metadata": {
    "slideshow": null
   },
   "source": [
    "## Softmax model"
   ]
  },
  {
   "cell_type": "markdown",
   "metadata": {
    "slideshow": null
   },
   "source": [
    "Looking only at the smallest distance is throwing some information away.  We would expect some classes to have more variation that others.  Also, we would expect correlation between the classes&mdash;a small distance to *cat* is probably more likely for *dog* than for *airplane*.\n",
    "\n",
    "Instead of a trying to work out these effects heuristically, let the computer do it.  Build a softmax model that takes as input features the distances from all ten typical images and makes a class prediction from those.  Again, use this to predict the class for each of the validation images.\n",
    "\n",
    "**Hint:**\n",
    "- The labels are given as integers, but softmax expects one-hot encoding of the labels.  The `tf.one_hot` function can do the conversion."
   ]
  },
  {
   "cell_type": "code",
   "execution_count": 22,
   "metadata": {
    "collapsed": true
   },
   "outputs": [],
   "source": [
    "class LogisticRegression():\n",
    "    def __init__(self, eta=.1):\n",
    "        self.opt = tf.keras.optimizers.SGD(learning_rate=eta)\n",
    "    \n",
    "    def _logits(self, X):\n",
    "        return tf.matmul(X, self.W) + self.b\n",
    "    \n",
    "    def loss(self, X, y, return_func=False):\n",
    "        def loss_():\n",
    "            return tf.reduce_mean(tf.nn.softmax_cross_entropy_with_logits(\n",
    "                logits=self._logits(X), labels=y))\n",
    "        \n",
    "        if not return_func:\n",
    "            return loss_()\n",
    "        \n",
    "        return loss_\n",
    "    \n",
    "    def fit(self, X, y, steps=100000):\n",
    "        if not hasattr(self, 'W'):\n",
    "            self.W = tf.Variable(tf.zeros((X.shape[1], 10), dtype=X.dtype))\n",
    "        if not hasattr(self, 'b'):\n",
    "            self.b = tf.Variable(tf.zeros((1,10), dtype=X.dtype))\n",
    "        \n",
    "        for _ in range(steps):\n",
    "            self.opt.minimize(self.loss(X, y, return_func=True), [self.W, self.b])\n",
    "    \n",
    "    def predict_proba(self, X):\n",
    "        return tf.nn.softmax(self._logits(X))\n",
    "        \n",
    "    def predict(self, X):\n",
    "        return tf.argmax(self.predict_proba(X), axis = 1)\n",
    "    \n",
    "    def score(self, X, y):\n",
    "        return tf.reduce_mean(tf.cast(tf.equal(self.predict(X), tf.argmax(y,axis=1)), tf.float64))"
   ]
  },
  {
   "cell_type": "code",
   "execution_count": 23,
   "metadata": {
    "collapsed": true
   },
   "outputs": [],
   "source": [
    "model = LogisticRegression()"
   ]
  },
  {
   "cell_type": "code",
   "execution_count": 12,
   "metadata": {
    "collapsed": true
   },
   "outputs": [],
   "source": [
    "X_train = []\n",
    "for im in train_images:\n",
    "    im = tf.cast(im, tf.float32)\n",
    "    diff = np.asarray([c_delta(typical_ims[i],im).numpy() for i in range(10)])\n",
    "    X_train.append(diff) \n",
    "X_train = np.asarray(X_train)"
   ]
  },
  {
   "cell_type": "code",
   "execution_count": 13,
   "metadata": {},
   "outputs": [
    {
     "data": {
      "text/plain": [
       "(50000, 10)"
      ]
     },
     "execution_count": 13,
     "metadata": {},
     "output_type": "execute_result"
    }
   ],
   "source": [
    "X_train.shape"
   ]
  },
  {
   "cell_type": "code",
   "execution_count": 14,
   "metadata": {
    "collapsed": true
   },
   "outputs": [],
   "source": [
    "y_train = tf.one_hot(train_labels, 10).numpy()\n",
    "#y_test = tf.one_hot(y_test, 10).numpy()"
   ]
  },
  {
   "cell_type": "code",
   "execution_count": 15,
   "metadata": {},
   "outputs": [
    {
     "data": {
      "text/plain": [
       "(50000, 10)"
      ]
     },
     "execution_count": 15,
     "metadata": {},
     "output_type": "execute_result"
    }
   ],
   "source": [
    "y_train.shape"
   ]
  },
  {
   "cell_type": "code",
   "execution_count": 24,
   "metadata": {
    "collapsed": true,
    "slideshow": null
   },
   "outputs": [],
   "source": [
    "model.fit(X_train, y_train)"
   ]
  },
  {
   "cell_type": "code",
   "execution_count": 17,
   "metadata": {
    "collapsed": true
   },
   "outputs": [],
   "source": [
    "X_test = []\n",
    "for im in validation_images:\n",
    "    im = tf.cast(im, tf.float32)\n",
    "    diff = np.asarray([c_delta(typical_ims[i],im).numpy() for i in range(10)])\n",
    "    X_test.append(diff) \n",
    "X_test = np.asarray(X_test)"
   ]
  },
  {
   "cell_type": "code",
   "execution_count": 191,
   "metadata": {
    "collapsed": true
   },
   "outputs": [],
   "source": [
    "y_test = tf.one_hot(train_labels[40000:], 10).numpy()"
   ]
  },
  {
   "cell_type": "code",
   "execution_count": 210,
   "metadata": {},
   "outputs": [
    {
     "data": {
      "text/plain": [
       "<tf.Tensor: shape=(), dtype=float64, numpy=0.2485>"
      ]
     },
     "execution_count": 210,
     "metadata": {},
     "output_type": "execute_result"
    }
   ],
   "source": [
    "model.score(X_test,y_test)"
   ]
  },
  {
   "cell_type": "code",
   "execution_count": 25,
   "metadata": {
    "collapsed": true
   },
   "outputs": [],
   "source": [
    "predicted_classes = model.predict(X_test)"
   ]
  },
  {
   "cell_type": "code",
   "execution_count": 26,
   "metadata": {
    "collapsed": true
   },
   "outputs": [],
   "source": [
    "predicted_classes = list(predicted_classes.numpy())"
   ]
  },
  {
   "cell_type": "markdown",
   "metadata": {
    "slideshow": null
   },
   "source": [
    "## Fully-connected model"
   ]
  },
  {
   "cell_type": "markdown",
   "metadata": {
    "slideshow": null
   },
   "source": [
    "The previous model still makes the assumption that this distance metric is the right measure to use.  In this problem, we'll give this up.  Build a multi-layer fully-connected neural network that takes the pixel values as input and yields a class prediction as output."
   ]
  },
  {
   "cell_type": "code",
   "execution_count": 4,
   "metadata": {
    "collapsed": true
   },
   "outputs": [],
   "source": [
    "import numpy as np\n",
    "import tensorflow as tf\n",
    "from tensorflow import keras"
   ]
  },
  {
   "cell_type": "code",
   "execution_count": null,
   "metadata": {},
   "outputs": [],
   "source": [
    "X_train = [np.concatenate(np.concatenate(im)) for im in train_images]"
   ]
  },
  {
   "cell_type": "code",
   "execution_count": null,
   "metadata": {
    "collapsed": true
   },
   "outputs": [],
   "source": [
    "y_train = train_labels[:49000]\n",
    "\n",
    "X_t = np.asarray(X_train[:49000])\n",
    "\n",
    "X_test = np.asarray(X_train[49000:])\n",
    "y_test = train_labels[49000:]\n",
    "                          \n",
    "from tensorflow.keras.utils import to_categorical as one_hot\n",
    "\n",
    "y_train_hot = one_hot(y_train)\n",
    "y_test_hot = one_hot(y_test)\n",
    "                          \n",
    "\n",
    "N_PIXELS= 32 * 32 * 3\n",
    "N_CLASSES = 10\n",
    "\n",
    "hidden_size = 64"
   ]
  },
  {
   "cell_type": "code",
   "execution_count": 35,
   "metadata": {},
   "outputs": [
    {
     "data": {
      "text/plain": [
       "(3072,)"
      ]
     },
     "execution_count": 35,
     "metadata": {},
     "output_type": "execute_result"
    }
   ],
   "source": [
    "np.concatenate(np.concatenate(X_train[0])).shape"
   ]
  },
  {
   "cell_type": "code",
   "execution_count": 9,
   "metadata": {
    "collapsed": true,
    "slideshow": null
   },
   "outputs": [],
   "source": [
    "model = keras.models.Sequential()\n",
    "\n",
    "model.add(\n",
    "    keras.layers.Dense(\n",
    "        hidden_size,\n",
    "        activation='sigmoid',\n",
    "        use_bias=True,  # The default\n",
    "        kernel_initializer=keras.initializers.TruncatedNormal(stddev=N_PIXELS**-0.5)\n",
    "    )\n",
    ")\n",
    "\n",
    "model.add(\n",
    "    keras.layers.Dense(\n",
    "        10,\n",
    "        activation='softmax',\n",
    "        kernel_initializer=keras.initializers.TruncatedNormal(stddev=hidden_size**-0.5)\n",
    "    )\n",
    ")\n",
    "\n",
    "\n",
    "model.compile(loss='categorical_crossentropy',\n",
    "              optimizer=keras.optimizers.SGD(lr=0.5),\n",
    "              metrics=['accuracy'])\n"
   ]
  },
  {
   "cell_type": "code",
   "execution_count": null,
   "metadata": {
    "collapsed": true
   },
   "outputs": [],
   "source": [
    "history = model.fit(X_t, y_train_hot,\n",
    "                    epochs=2,\n",
    "                    batch_size=128,\n",
    "                    validation_data=(X_test,y_test_hot))"
   ]
  },
  {
   "cell_type": "code",
   "execution_count": 9,
   "metadata": {
    "collapsed": true
   },
   "outputs": [],
   "source": [
    "val = [np.concatenate(np.concatenate(im)) for im in validation_images]"
   ]
  },
  {
   "cell_type": "code",
   "execution_count": 10,
   "metadata": {
    "collapsed": true
   },
   "outputs": [],
   "source": [
    "predicted_classes = list(np.argmax(model.predict(np.asarray(val)),axis=1))"
   ]
  },
  {
   "cell_type": "markdown",
   "metadata": {
    "slideshow": null
   },
   "source": [
    "## Convolutional model"
   ]
  },
  {
   "cell_type": "markdown",
   "metadata": {
    "slideshow": null
   },
   "source": [
    "Convolutional neural networks have had a lot of success in image classification.  Build a neural network with convolutional layers to improve the performance."
   ]
  },
  {
   "cell_type": "code",
   "execution_count": 18,
   "metadata": {
    "collapsed": true
   },
   "outputs": [],
   "source": [
    "import tensorflow as tf\n",
    "from tensorflow import keras"
   ]
  },
  {
   "cell_type": "code",
   "execution_count": 12,
   "metadata": {
    "collapsed": true
   },
   "outputs": [],
   "source": [
    "from random import shuffle\n",
    "X_train = [np.concatenate(np.concatenate(im)) for im in train_images[:10]]"
   ]
  },
  {
   "cell_type": "code",
   "execution_count": 16,
   "metadata": {},
   "outputs": [
    {
     "data": {
      "text/plain": [
       "(10, 3072)"
      ]
     },
     "execution_count": 16,
     "metadata": {},
     "output_type": "execute_result"
    }
   ],
   "source": [
    "X_train\n",
    "X_t = np.asarray(X_train)\n",
    "X_t.shape"
   ]
  },
  {
   "cell_type": "code",
   "execution_count": 19,
   "metadata": {},
   "outputs": [
    {
     "data": {
      "text/plain": [
       "(3072,)"
      ]
     },
     "execution_count": 19,
     "metadata": {},
     "output_type": "execute_result"
    }
   ],
   "source": [
    "X_train[0].shape"
   ]
  },
  {
   "cell_type": "code",
   "execution_count": 6,
   "metadata": {
    "collapsed": true
   },
   "outputs": [],
   "source": [
    "#shuffle(X_train)\n",
    "y_train = train_labels[:48000]\n",
    "\n",
    "X_t = np.asarray(X_train[:48000])\n",
    "\n",
    "X_test = np.asarray(X_train[48000:])\n",
    "y_test = train_labels[48000:]\n",
    "                          \n",
    "from tensorflow.keras.utils import to_categorical as one_hot\n",
    "\n",
    "y_train_hot = one_hot(y_train)\n",
    "y_test_hot = one_hot(y_test)                       "
   ]
  },
  {
   "cell_type": "code",
   "execution_count": 7,
   "metadata": {
    "collapsed": true
   },
   "outputs": [],
   "source": [
    "img_size = 32\n",
    "img_size_flat = img_size * img_size\n",
    "img_shape = (img_size, img_size)\n",
    "\n",
    "n_classes = 10\n",
    "n_channels = 1\n",
    "filt_size = [5, 5] # 5x5 pixel filters\n",
    "\n",
    "batch_size = 128\n",
    "n_epochs = 30"
   ]
  },
  {
   "cell_type": "code",
   "execution_count": 8,
   "metadata": {
    "collapsed": true
   },
   "outputs": [],
   "source": [
    "model = keras.models.Sequential()\n",
    "\n",
    "model.add(keras.layers.Reshape([img_size, img_size, 3]))\n",
    "model.add(keras.layers.Conv2D(16, filt_size, padding='same',\n",
    "                              activation='relu'))\n",
    "\n",
    "model.add(keras.layers.MaxPooling2D(pool_size=(2, 2), strides=(2,2),\n",
    "                                    padding='same'))\n",
    "\n",
    "model.add(keras.layers.Dropout(0.5))\n",
    "\n",
    "model.add(keras.layers.Flatten())\n",
    "\n",
    "model.add(keras.layers.Dense(100, activation='relu'))\n",
    "\n",
    "model.add(keras.layers.Dense(n_classes, activation='softmax'))"
   ]
  },
  {
   "cell_type": "code",
   "execution_count": 9,
   "metadata": {},
   "outputs": [
    {
     "name": "stdout",
     "output_type": "stream",
     "text": [
      "Train on 48000 samples, validate on 2000 samples\n",
      "Epoch 1/30\n",
      "48000/48000 [==============================] - 7s 149us/sample - loss: 1.6386 - accuracy: 0.4165 - val_loss: 1.3788 - val_accuracy: 0.5230\n",
      "Epoch 2/30\n",
      "48000/48000 [==============================] - 6s 131us/sample - loss: 1.3589 - accuracy: 0.5198 - val_loss: 1.2906 - val_accuracy: 0.5370\n",
      "Epoch 3/30\n",
      "48000/48000 [==============================] - 6s 127us/sample - loss: 1.2697 - accuracy: 0.5507 - val_loss: 1.1628 - val_accuracy: 0.5815\n",
      "Epoch 4/30\n",
      "48000/48000 [==============================] - 6s 125us/sample - loss: 1.2010 - accuracy: 0.5741 - val_loss: 1.1169 - val_accuracy: 0.6105\n",
      "Epoch 5/30\n",
      "48000/48000 [==============================] - 6s 129us/sample - loss: 1.1466 - accuracy: 0.5946 - val_loss: 1.1066 - val_accuracy: 0.6050\n",
      "Epoch 6/30\n",
      "48000/48000 [==============================] - 6s 131us/sample - loss: 1.1022 - accuracy: 0.6109 - val_loss: 1.0605 - val_accuracy: 0.6295\n",
      "Epoch 7/30\n",
      "48000/48000 [==============================] - 6s 125us/sample - loss: 1.0622 - accuracy: 0.6269 - val_loss: 1.0333 - val_accuracy: 0.6550\n",
      "Epoch 8/30\n",
      "48000/48000 [==============================] - 6s 126us/sample - loss: 1.0241 - accuracy: 0.6376 - val_loss: 1.0221 - val_accuracy: 0.6530\n",
      "Epoch 9/30\n",
      "48000/48000 [==============================] - 6s 130us/sample - loss: 0.9895 - accuracy: 0.6515 - val_loss: 1.0058 - val_accuracy: 0.6530\n",
      "Epoch 10/30\n",
      "48000/48000 [==============================] - 6s 126us/sample - loss: 0.9602 - accuracy: 0.6622 - val_loss: 0.9629 - val_accuracy: 0.6770\n",
      "Epoch 11/30\n",
      "48000/48000 [==============================] - 6s 128us/sample - loss: 0.9277 - accuracy: 0.6750 - val_loss: 0.9837 - val_accuracy: 0.6665\n",
      "Epoch 12/30\n",
      "48000/48000 [==============================] - 6s 128us/sample - loss: 0.9057 - accuracy: 0.6812 - val_loss: 0.9751 - val_accuracy: 0.6715\n",
      "Epoch 13/30\n",
      "48000/48000 [==============================] - 6s 126us/sample - loss: 0.8789 - accuracy: 0.6905 - val_loss: 0.9511 - val_accuracy: 0.6740\n",
      "Epoch 14/30\n",
      "48000/48000 [==============================] - 6s 127us/sample - loss: 0.8537 - accuracy: 0.6980 - val_loss: 0.9329 - val_accuracy: 0.6905\n",
      "Epoch 15/30\n",
      "48000/48000 [==============================] - 6s 126us/sample - loss: 0.8295 - accuracy: 0.7074 - val_loss: 0.9428 - val_accuracy: 0.6810\n",
      "Epoch 16/30\n",
      "48000/48000 [==============================] - 6s 122us/sample - loss: 0.8061 - accuracy: 0.7152 - val_loss: 0.9463 - val_accuracy: 0.6740\n",
      "Epoch 17/30\n",
      "48000/48000 [==============================] - 6s 129us/sample - loss: 0.7911 - accuracy: 0.7211 - val_loss: 0.9309 - val_accuracy: 0.6890\n",
      "Epoch 18/30\n",
      "48000/48000 [==============================] - 6s 124us/sample - loss: 0.7740 - accuracy: 0.7288 - val_loss: 0.9406 - val_accuracy: 0.6860\n",
      "Epoch 19/30\n",
      "48000/48000 [==============================] - 6s 128us/sample - loss: 0.7521 - accuracy: 0.7337 - val_loss: 0.9359 - val_accuracy: 0.6850\n",
      "Epoch 20/30\n",
      "48000/48000 [==============================] - 6s 127us/sample - loss: 0.7361 - accuracy: 0.7378 - val_loss: 0.8992 - val_accuracy: 0.7015\n",
      "Epoch 21/30\n",
      "48000/48000 [==============================] - 6s 131us/sample - loss: 0.7256 - accuracy: 0.7434 - val_loss: 0.9316 - val_accuracy: 0.6910\n",
      "Epoch 22/30\n",
      "48000/48000 [==============================] - 6s 133us/sample - loss: 0.7090 - accuracy: 0.7483 - val_loss: 0.9210 - val_accuracy: 0.6970\n",
      "Epoch 23/30\n",
      "48000/48000 [==============================] - 6s 124us/sample - loss: 0.6944 - accuracy: 0.7550 - val_loss: 0.9334 - val_accuracy: 0.6980\n",
      "Epoch 24/30\n",
      "48000/48000 [==============================] - 6s 125us/sample - loss: 0.6790 - accuracy: 0.7586 - val_loss: 0.9404 - val_accuracy: 0.6905\n",
      "Epoch 25/30\n",
      "48000/48000 [==============================] - 6s 127us/sample - loss: 0.6780 - accuracy: 0.7594 - val_loss: 0.9367 - val_accuracy: 0.6885\n",
      "Epoch 26/30\n",
      "48000/48000 [==============================] - 6s 128us/sample - loss: 0.6635 - accuracy: 0.7661 - val_loss: 0.9864 - val_accuracy: 0.6780\n",
      "Epoch 27/30\n",
      "48000/48000 [==============================] - 6s 126us/sample - loss: 0.6535 - accuracy: 0.7671 - val_loss: 0.9325 - val_accuracy: 0.6900\n",
      "Epoch 28/30\n",
      "48000/48000 [==============================] - 6s 128us/sample - loss: 0.6341 - accuracy: 0.7746 - val_loss: 0.9615 - val_accuracy: 0.6910\n",
      "Epoch 29/30\n",
      "48000/48000 [==============================] - 6s 126us/sample - loss: 0.6260 - accuracy: 0.7762 - val_loss: 0.9451 - val_accuracy: 0.6950\n",
      "Epoch 30/30\n",
      "48000/48000 [==============================] - 6s 123us/sample - loss: 0.6244 - accuracy: 0.7780 - val_loss: 0.9330 - val_accuracy: 0.6965\n"
     ]
    }
   ],
   "source": [
    "model.compile(loss='categorical_crossentropy',\n",
    "              optimizer='adam',\n",
    "              metrics=['accuracy'])\n",
    "\n",
    "history = model.fit(X_t, y_train_hot,\n",
    "                    epochs=n_epochs,\n",
    "                    batch_size=batch_size,\n",
    "                    validation_data=(X_test,y_test_hot))"
   ]
  },
  {
   "cell_type": "code",
   "execution_count": 10,
   "metadata": {
    "collapsed": true
   },
   "outputs": [],
   "source": [
    "val = [np.concatenate(np.concatenate(im)) for im in validation_images]"
   ]
  },
  {
   "cell_type": "code",
   "execution_count": 11,
   "metadata": {
    "collapsed": true,
    "slideshow": null
   },
   "outputs": [],
   "source": [
    "predicted_classes = list(np.argmax(model.predict(np.asarray(val)),axis=1))"
   ]
  },
  {
   "cell_type": "code",
   "execution_count": null,
   "metadata": {
    "collapsed": true
   },
   "outputs": [],
   "source": [
    "predicted_classes"
   ]
  },
  {
   "cell_type": "markdown",
   "metadata": {
    "slideshow": null
   },
   "source": [
    "## Transfer learning"
   ]
  },
  {
   "cell_type": "markdown",
   "metadata": {
    "slideshow": null
   },
   "source": [
    "In transfer learning, we use a network trained on one data set to provide a starting point for the modeling of other data.  As we are trying to model color images, we should look for another network trained on color images.  Luckily, we have already discussed such a network: the Inception network used in the Deep Dream notebook.\n",
    "\n",
    "The following cell will load the model, omitting its classification layer (since we're not interested in classifying `ImageNet` images)."
   ]
  },
  {
   "cell_type": "code",
   "execution_count": 5,
   "metadata": {
    "collapsed": true
   },
   "outputs": [],
   "source": [
    "import tensorflow as tf\n",
    "from tensorflow import keras"
   ]
  },
  {
   "cell_type": "code",
   "execution_count": 6,
   "metadata": {
    "collapsed": true,
    "slideshow": null
   },
   "outputs": [],
   "source": [
    "# include_top=False will discard avg_pool before prediction layer\n",
    "inception = tf.keras.applications.inception_v3.InceptionV3(include_top=True, input_shape=(299, 299, 3))\n",
    "inception = tf.keras.Model([inception.input], [inception.layers[-2].output]) # manually discard prediction layer"
   ]
  },
  {
   "cell_type": "markdown",
   "metadata": {
    "slideshow": null
   },
   "source": [
    "In a transfer learning setup, we will use the first part of the trained network to process the original images, and then train a network to make predictions from the output of the trained network.  There are several ways to accomplish this.\n",
    "\n",
    "One approach is to connect the new layers to the output of the existing layers.  Data will flow through the pre-trained layers as well as those added.  In the training step, only the new layers should be marked as trainable.\n",
    "\n",
    "However, this can be a bit wasteful when multiple epochs of training will be undertaken since we recalculate the latent vectors on every training step.  With a smaller data set, such as this, it can be more efficient to pre-calculate the *latent vectors* that are the output of the pre-trained network.  These can be stored and used as input for training a smaller, separate network to make the predictions.  We recommend this approach for this miniproject.\n",
    "\n",
    "Images should be fed to the `inception` network and then vectorized (you might want to consider the `Flatten` layer from Keras)."
   ]
  },
  {
   "cell_type": "markdown",
   "metadata": {
    "slideshow": null
   },
   "source": [
    "We've loaded the `inception` network with its native image shape: $299 \\times 299$.  This implies that we need to upscale our images from $32\\times32$ to $299\\times299$.  There are a number of ways to do this; the reference solution uses `tf.image.resize`.  (Higher orders produce better results, but will take significantly longer!)  The Inception network was trained with pixel values from 0 to 255, so you'll want to scale up the image values appropriately.\n",
    "\n",
    "It may make sense to do the rescaling and latent vector calculation at the same time, to avoid storing the (somewhat large) rescaled images unnecessarily.  You also probably want to save those latent vectors to disk, to avoid the need to repeat this calculation later.\n",
    "\n",
    "**Hints:**\n",
    "- Be sure to batch this calculation; resizing all 50,000 images at once will cause memory errors.\n",
    "- The latent vector calculation took us about 2 hours on a single machine.  You might consider distributing the calculation.\n",
    "- The latent vectors for the first 10 images have an average of 778 non-zero values and an overall average value of 0.578."
   ]
  },
  {
   "cell_type": "markdown",
   "metadata": {
    "slideshow": null
   },
   "source": [
    "With the latent vectors calculated, we can use them as input to train a small neural network to make the final predictions.\n",
    "\n",
    "**Hints:**\n",
    "- The reference solution has three layers.\n",
    "- The reference solution achieves a training accuracy of 87% and a test accuracy of 85%."
   ]
  },
  {
   "cell_type": "code",
   "execution_count": 16,
   "metadata": {
    "collapsed": true
   },
   "outputs": [],
   "source": [
    "for i in range(10):\n",
    "    images = train_images[i*5000: (i+1)*5000]\n",
    "    lis = [tf.image.resize(im,[299, 299]).numpy().astype(np.float32) for im in images]\n",
    "    res = [inception.predict(np.expand_dims(l, axis=0)) for l in lis]\n",
    "    res_ready = np.asarray(res)\n",
    "    with open('resize{}.npy'.format(i), 'wb') as f:\n",
    "        np.save(f, res_ready)\n",
    "    del res_ready\n",
    "    del images\n",
    "    del lis\n",
    "    del res"
   ]
  },
  {
   "cell_type": "code",
   "execution_count": 14,
   "metadata": {
    "collapsed": true
   },
   "outputs": [],
   "source": [
    "#load all files together\n",
    "ns = []\n",
    "for i in range(10):\n",
    "    a = np.load(open(\"resize{}.npy\".format(i),'rb'))\n",
    "    ns.extend(a)#.reshape(-1,2048))    "
   ]
  },
  {
   "cell_type": "code",
   "execution_count": 35,
   "metadata": {
    "collapsed": true
   },
   "outputs": [],
   "source": [
    "latent_vects = np.concatenate(ns)"
   ]
  },
  {
   "cell_type": "code",
   "execution_count": 36,
   "metadata": {},
   "outputs": [
    {
     "data": {
      "text/plain": [
       "(50000, 2048)"
      ]
     },
     "execution_count": 36,
     "metadata": {},
     "output_type": "execute_result"
    }
   ],
   "source": [
    "latent_vects.shape"
   ]
  },
  {
   "cell_type": "code",
   "execution_count": 15,
   "metadata": {
    "collapsed": true
   },
   "outputs": [],
   "source": [
    "X_train = ns"
   ]
  },
  {
   "cell_type": "code",
   "execution_count": 32,
   "metadata": {
    "collapsed": true
   },
   "outputs": [],
   "source": [
    "y_train = train_labels[:48000]\n",
    "\n",
    "X_t = np.concatenate(X_train[:48000])\n",
    "\n",
    "X_test = np.concatenate(X_train[48000:])\n",
    "y_test = train_labels[48000:]\n",
    "                          \n",
    "from tensorflow.keras.utils import to_categorical as one_hot\n",
    "\n",
    "y_train_hot = one_hot(y_train)\n",
    "y_test_hot = one_hot(y_test)                       "
   ]
  },
  {
   "cell_type": "code",
   "execution_count": 33,
   "metadata": {},
   "outputs": [
    {
     "data": {
      "text/plain": [
       "(48000, 2048)"
      ]
     },
     "execution_count": 33,
     "metadata": {},
     "output_type": "execute_result"
    }
   ],
   "source": [
    "X_t.shape"
   ]
  },
  {
   "cell_type": "code",
   "execution_count": 34,
   "metadata": {},
   "outputs": [
    {
     "data": {
      "text/plain": [
       "(2000, 2048)"
      ]
     },
     "execution_count": 34,
     "metadata": {},
     "output_type": "execute_result"
    }
   ],
   "source": [
    "X_test.shape"
   ]
  },
  {
   "cell_type": "code",
   "execution_count": 35,
   "metadata": {
    "collapsed": true
   },
   "outputs": [],
   "source": [
    "N_PIXELS= 299 * 299 * 3\n",
    "N_CLASSES = 10\n",
    "\n",
    "hidden_size = 64"
   ]
  },
  {
   "cell_type": "code",
   "execution_count": 36,
   "metadata": {},
   "outputs": [
    {
     "data": {
      "text/plain": [
       "(2000, 2048)"
      ]
     },
     "execution_count": 36,
     "metadata": {},
     "output_type": "execute_result"
    }
   ],
   "source": [
    "X_test.shape"
   ]
  },
  {
   "cell_type": "code",
   "execution_count": 37,
   "metadata": {
    "collapsed": true
   },
   "outputs": [],
   "source": [
    "model = keras.models.Sequential()\n",
    "\n",
    "model.add(\n",
    "    keras.layers.Dense(\n",
    "        hidden_size,\n",
    "        activation='sigmoid',\n",
    "        use_bias=True,  # The default\n",
    "        kernel_initializer=keras.initializers.TruncatedNormal(stddev=N_PIXELS**-0.5)\n",
    "    )\n",
    ")\n",
    "\n",
    "model.add(\n",
    "    keras.layers.Dense(\n",
    "        10,\n",
    "        activation='softmax',\n",
    "        kernel_initializer=keras.initializers.TruncatedNormal(stddev=hidden_size**-0.5)\n",
    "    )\n",
    ")\n",
    "\n",
    "\n",
    "model.compile(loss='categorical_crossentropy',\n",
    "              optimizer=keras.optimizers.SGD(lr=0.5),\n",
    "              metrics=['accuracy'])"
   ]
  },
  {
   "cell_type": "code",
   "execution_count": 38,
   "metadata": {},
   "outputs": [
    {
     "name": "stdout",
     "output_type": "stream",
     "text": [
      "Train on 48000 samples, validate on 2000 samples\n",
      "Epoch 1/2\n",
      "48000/48000 [==============================] - 1s 19us/sample - loss: 0.7848 - accuracy: 0.7329 - val_loss: 0.6030 - val_accuracy: 0.7980\n",
      "Epoch 2/2\n",
      "48000/48000 [==============================] - 1s 14us/sample - loss: 0.5206 - accuracy: 0.8182 - val_loss: 0.4885 - val_accuracy: 0.8355\n"
     ]
    }
   ],
   "source": [
    "history = model.fit(X_t, y_train_hot,\n",
    "                    epochs=2,\n",
    "                    batch_size=128,\n",
    "                    validation_data=(X_test,y_test_hot))"
   ]
  },
  {
   "cell_type": "code",
   "execution_count": 73,
   "metadata": {
    "collapsed": true
   },
   "outputs": [],
   "source": [
    "del val"
   ]
  },
  {
   "cell_type": "code",
   "execution_count": 70,
   "metadata": {
    "collapsed": true
   },
   "outputs": [],
   "source": [
    "lis = [tf.image.resize(im,[299, 299]).numpy().astype(np.float32) for im in validation_images[:10]]"
   ]
  },
  {
   "cell_type": "code",
   "execution_count": 9,
   "metadata": {
    "collapsed": true
   },
   "outputs": [],
   "source": [
    "images = validation_images[5000:]\n",
    "lis = [tf.image.resize(im,[299, 299]).numpy().astype(np.float32) for im in images]\n",
    "res = [inception.predict(np.expand_dims(l, axis=0)) for l in lis]\n",
    "res_ready = np.asarray(res)\n",
    "with open('test1.npy', 'wb') as f:\n",
    "    np.save(f, res_ready)"
   ]
  },
  {
   "cell_type": "code",
   "execution_count": 11,
   "metadata": {
    "collapsed": true
   },
   "outputs": [],
   "source": [
    "test = []\n",
    "for i in range(2):\n",
    "    a = np.load(open(\"test{}.npy\".format(i),'rb'))\n",
    "    test.extend(a)#.reshape(-1,2048))    "
   ]
  },
  {
   "cell_type": "code",
   "execution_count": 12,
   "metadata": {
    "collapsed": true
   },
   "outputs": [],
   "source": [
    "val = np.concatenate(test)"
   ]
  },
  {
   "cell_type": "code",
   "execution_count": 13,
   "metadata": {},
   "outputs": [
    {
     "data": {
      "text/plain": [
       "(10000, 2048)"
      ]
     },
     "execution_count": 13,
     "metadata": {},
     "output_type": "execute_result"
    }
   ],
   "source": [
    "val.shape"
   ]
  },
  {
   "cell_type": "code",
   "execution_count": 39,
   "metadata": {
    "collapsed": true
   },
   "outputs": [],
   "source": [
    "predicted_classes = list(np.argmax(model.predict(val),axis=1))"
   ]
  },
  {
   "cell_type": "code",
   "execution_count": 40,
   "metadata": {},
   "outputs": [
    {
     "data": {
      "text/plain": [
       "[7,\n",
       " 9,\n",
       " 3,\n",
       " 7,\n",
       " 2,\n",
       " 4,\n",
       " 8,\n",
       " 7,\n",
       " 9,\n",
       " 4,\n",
       " 8,\n",
       " 7,\n",
       " 7,\n",
       " 3,\n",
       " 1,\n",
       " 0,\n",
       " 9,\n",
       " 9,\n",
       " 1,\n",
       " 8,\n",
       " 1,\n",
       " 7,\n",
       " 0,\n",
       " 1,\n",
       " 2,\n",
       " 9,\n",
       " 5,\n",
       " 3,\n",
       " 1,\n",
       " 0,\n",
       " 7,\n",
       " 2,\n",
       " 9,\n",
       " 0,\n",
       " 6,\n",
       " 5,\n",
       " 1,\n",
       " 2,\n",
       " 5,\n",
       " 5,\n",
       " 8,\n",
       " 2,\n",
       " 6,\n",
       " 7,\n",
       " 6,\n",
       " 4,\n",
       " 7,\n",
       " 2,\n",
       " 4,\n",
       " 2,\n",
       " 0,\n",
       " 4,\n",
       " 9,\n",
       " 2,\n",
       " 9,\n",
       " 6,\n",
       " 7,\n",
       " 7,\n",
       " 0,\n",
       " 3,\n",
       " 7,\n",
       " 4,\n",
       " 7,\n",
       " 2,\n",
       " 9,\n",
       " 3,\n",
       " 6,\n",
       " 9,\n",
       " 2,\n",
       " 0,\n",
       " 3,\n",
       " 6,\n",
       " 8,\n",
       " 0,\n",
       " 4,\n",
       " 5,\n",
       " 2,\n",
       " 6,\n",
       " 9,\n",
       " 1,\n",
       " 2,\n",
       " 3,\n",
       " 9,\n",
       " 4,\n",
       " 6,\n",
       " 7,\n",
       " 6,\n",
       " 0,\n",
       " 0,\n",
       " 0,\n",
       " 3,\n",
       " 3,\n",
       " 8,\n",
       " 6,\n",
       " 6,\n",
       " 1,\n",
       " 1,\n",
       " 1,\n",
       " 2,\n",
       " 6,\n",
       " 5,\n",
       " 6,\n",
       " 3,\n",
       " 2,\n",
       " 1,\n",
       " 0,\n",
       " 8,\n",
       " 7,\n",
       " 2,\n",
       " 0,\n",
       " 9,\n",
       " 9,\n",
       " 9,\n",
       " 7,\n",
       " 0,\n",
       " 2,\n",
       " 0,\n",
       " 1,\n",
       " 2,\n",
       " 7,\n",
       " 1,\n",
       " 3,\n",
       " 4,\n",
       " 4,\n",
       " 1,\n",
       " 6,\n",
       " 6,\n",
       " 7,\n",
       " 4,\n",
       " 1,\n",
       " 7,\n",
       " 1,\n",
       " 2,\n",
       " 3,\n",
       " 9,\n",
       " 4,\n",
       " 8,\n",
       " 1,\n",
       " 6,\n",
       " 7,\n",
       " 1,\n",
       " 6,\n",
       " 5,\n",
       " 0,\n",
       " 2,\n",
       " 3,\n",
       " 0,\n",
       " 2,\n",
       " 9,\n",
       " 1,\n",
       " 3,\n",
       " 2,\n",
       " 7,\n",
       " 7,\n",
       " 7,\n",
       " 7,\n",
       " 2,\n",
       " 6,\n",
       " 5,\n",
       " 5,\n",
       " 2,\n",
       " 3,\n",
       " 9,\n",
       " 4,\n",
       " 2,\n",
       " 8,\n",
       " 6,\n",
       " 4,\n",
       " 2,\n",
       " 1,\n",
       " 0,\n",
       " 1,\n",
       " 0,\n",
       " 6,\n",
       " 5,\n",
       " 0,\n",
       " 0,\n",
       " 8,\n",
       " 9,\n",
       " 2,\n",
       " 9,\n",
       " 3,\n",
       " 5,\n",
       " 9,\n",
       " 8,\n",
       " 0,\n",
       " 9,\n",
       " 8,\n",
       " 9,\n",
       " 6,\n",
       " 3,\n",
       " 6,\n",
       " 6,\n",
       " 3,\n",
       " 6,\n",
       " 8,\n",
       " 2,\n",
       " 0,\n",
       " 6,\n",
       " 9,\n",
       " 5,\n",
       " 9,\n",
       " 2,\n",
       " 3,\n",
       " 3,\n",
       " 5,\n",
       " 5,\n",
       " 9,\n",
       " 3,\n",
       " 0,\n",
       " 7,\n",
       " 9,\n",
       " 9,\n",
       " 4,\n",
       " 5,\n",
       " 4,\n",
       " 6,\n",
       " 9,\n",
       " 4,\n",
       " 3,\n",
       " 9,\n",
       " 7,\n",
       " 7,\n",
       " 8,\n",
       " 0,\n",
       " 1,\n",
       " 1,\n",
       " 1,\n",
       " 0,\n",
       " 6,\n",
       " 3,\n",
       " 1,\n",
       " 6,\n",
       " 3,\n",
       " 2,\n",
       " 6,\n",
       " 5,\n",
       " 5,\n",
       " 9,\n",
       " 2,\n",
       " 1,\n",
       " 3,\n",
       " 5,\n",
       " 5,\n",
       " 1,\n",
       " 9,\n",
       " 3,\n",
       " 0,\n",
       " 8,\n",
       " 2,\n",
       " 6,\n",
       " 6,\n",
       " 4,\n",
       " 0,\n",
       " 0,\n",
       " 0,\n",
       " 9,\n",
       " 8,\n",
       " 2,\n",
       " 5,\n",
       " 3,\n",
       " 7,\n",
       " 3,\n",
       " 8,\n",
       " 4,\n",
       " 9,\n",
       " 4,\n",
       " 8,\n",
       " 0,\n",
       " 0,\n",
       " 1,\n",
       " 7,\n",
       " 0,\n",
       " 8,\n",
       " 7,\n",
       " 0,\n",
       " 2,\n",
       " 2,\n",
       " 3,\n",
       " 1,\n",
       " 8,\n",
       " 6,\n",
       " 7,\n",
       " 1,\n",
       " 1,\n",
       " 9,\n",
       " 5,\n",
       " 1,\n",
       " 4,\n",
       " 5,\n",
       " 3,\n",
       " 3,\n",
       " 2,\n",
       " 8,\n",
       " 8,\n",
       " 6,\n",
       " 8,\n",
       " 4,\n",
       " 7,\n",
       " 3,\n",
       " 6,\n",
       " 3,\n",
       " 0,\n",
       " 9,\n",
       " 2,\n",
       " 9,\n",
       " 0,\n",
       " 4,\n",
       " 0,\n",
       " 5,\n",
       " 9,\n",
       " 6,\n",
       " 8,\n",
       " 7,\n",
       " 9,\n",
       " 0,\n",
       " 8,\n",
       " 5,\n",
       " 6,\n",
       " 1,\n",
       " 1,\n",
       " 5,\n",
       " 8,\n",
       " 9,\n",
       " 7,\n",
       " 6,\n",
       " 8,\n",
       " 9,\n",
       " 3,\n",
       " 0,\n",
       " 6,\n",
       " 6,\n",
       " 7,\n",
       " 5,\n",
       " 6,\n",
       " 0,\n",
       " 2,\n",
       " 9,\n",
       " 6,\n",
       " 5,\n",
       " 2,\n",
       " 6,\n",
       " 9,\n",
       " 1,\n",
       " 0,\n",
       " 1,\n",
       " 9,\n",
       " 9,\n",
       " 0,\n",
       " 1,\n",
       " 2,\n",
       " 9,\n",
       " 7,\n",
       " 4,\n",
       " 6,\n",
       " 3,\n",
       " 6,\n",
       " 8,\n",
       " 6,\n",
       " 9,\n",
       " 9,\n",
       " 0,\n",
       " 3,\n",
       " 8,\n",
       " 1,\n",
       " 1,\n",
       " 2,\n",
       " 6,\n",
       " 4,\n",
       " 5,\n",
       " 4,\n",
       " 2,\n",
       " 5,\n",
       " 0,\n",
       " 5,\n",
       " 6,\n",
       " 6,\n",
       " 2,\n",
       " 0,\n",
       " 8,\n",
       " 9,\n",
       " 6,\n",
       " 3,\n",
       " 5,\n",
       " 9,\n",
       " 2,\n",
       " 6,\n",
       " 6,\n",
       " 7,\n",
       " 3,\n",
       " 1,\n",
       " 8,\n",
       " 7,\n",
       " 7,\n",
       " 9,\n",
       " 1,\n",
       " 9,\n",
       " 0,\n",
       " 8,\n",
       " 7,\n",
       " 0,\n",
       " 1,\n",
       " 7,\n",
       " 7,\n",
       " 9,\n",
       " 2,\n",
       " 5,\n",
       " 1,\n",
       " 6,\n",
       " 3,\n",
       " 1,\n",
       " 9,\n",
       " 0,\n",
       " 5,\n",
       " 5,\n",
       " 0,\n",
       " 3,\n",
       " 8,\n",
       " 6,\n",
       " 8,\n",
       " 3,\n",
       " 4,\n",
       " 8,\n",
       " 2,\n",
       " 0,\n",
       " 9,\n",
       " 4,\n",
       " 6,\n",
       " 4,\n",
       " 4,\n",
       " 8,\n",
       " 9,\n",
       " 8,\n",
       " 1,\n",
       " 0,\n",
       " 3,\n",
       " 5,\n",
       " 0,\n",
       " 3,\n",
       " 1,\n",
       " 1,\n",
       " 8,\n",
       " 7,\n",
       " 2,\n",
       " 8,\n",
       " 7,\n",
       " 1,\n",
       " 8,\n",
       " 7,\n",
       " 7,\n",
       " 8,\n",
       " 9,\n",
       " 0,\n",
       " 7,\n",
       " 1,\n",
       " 9,\n",
       " 3,\n",
       " 0,\n",
       " 0,\n",
       " 1,\n",
       " 5,\n",
       " 1,\n",
       " 0,\n",
       " 9,\n",
       " 6,\n",
       " 3,\n",
       " 7,\n",
       " 5,\n",
       " 9,\n",
       " 3,\n",
       " 3,\n",
       " 1,\n",
       " 2,\n",
       " 7,\n",
       " 1,\n",
       " 6,\n",
       " 6,\n",
       " 9,\n",
       " 6,\n",
       " 0,\n",
       " 6,\n",
       " 0,\n",
       " 2,\n",
       " 8,\n",
       " 9,\n",
       " 6,\n",
       " 4,\n",
       " 3,\n",
       " 0,\n",
       " 1,\n",
       " 7,\n",
       " 3,\n",
       " 3,\n",
       " 2,\n",
       " 5,\n",
       " 2,\n",
       " 3,\n",
       " 6,\n",
       " 8,\n",
       " 8,\n",
       " 6,\n",
       " 3,\n",
       " 0,\n",
       " 6,\n",
       " 7,\n",
       " 0,\n",
       " 8,\n",
       " 3,\n",
       " 1,\n",
       " 3,\n",
       " 7,\n",
       " 5,\n",
       " 0,\n",
       " 6,\n",
       " 5,\n",
       " 6,\n",
       " 6,\n",
       " 7,\n",
       " 6,\n",
       " 3,\n",
       " 7,\n",
       " 3,\n",
       " 1,\n",
       " 5,\n",
       " 0,\n",
       " 1,\n",
       " 1,\n",
       " 1,\n",
       " 3,\n",
       " 7,\n",
       " 2,\n",
       " 0,\n",
       " 7,\n",
       " 6,\n",
       " 4,\n",
       " 9,\n",
       " 0,\n",
       " 3,\n",
       " 4,\n",
       " 4,\n",
       " 4,\n",
       " 1,\n",
       " 6,\n",
       " 3,\n",
       " 7,\n",
       " 1,\n",
       " 7,\n",
       " 5,\n",
       " 5,\n",
       " 9,\n",
       " 3,\n",
       " 8,\n",
       " 8,\n",
       " 2,\n",
       " 6,\n",
       " 3,\n",
       " 1,\n",
       " 3,\n",
       " 1,\n",
       " 6,\n",
       " 7,\n",
       " 8,\n",
       " 7,\n",
       " 7,\n",
       " 4,\n",
       " 4,\n",
       " 3,\n",
       " 6,\n",
       " 2,\n",
       " 7,\n",
       " 7,\n",
       " 2,\n",
       " 8,\n",
       " 2,\n",
       " 0,\n",
       " 9,\n",
       " 2,\n",
       " 7,\n",
       " 8,\n",
       " 2,\n",
       " 6,\n",
       " 0,\n",
       " 6,\n",
       " 3,\n",
       " 8,\n",
       " 8,\n",
       " 9,\n",
       " 7,\n",
       " 7,\n",
       " 2,\n",
       " 9,\n",
       " 7,\n",
       " 0,\n",
       " 8,\n",
       " 8,\n",
       " 7,\n",
       " 0,\n",
       " 8,\n",
       " 2,\n",
       " 5,\n",
       " 3,\n",
       " 8,\n",
       " 7,\n",
       " 1,\n",
       " 7,\n",
       " 3,\n",
       " 5,\n",
       " 5,\n",
       " 5,\n",
       " 7,\n",
       " 3,\n",
       " 5,\n",
       " 5,\n",
       " 6,\n",
       " 9,\n",
       " 5,\n",
       " 8,\n",
       " 5,\n",
       " 6,\n",
       " 3,\n",
       " 6,\n",
       " 8,\n",
       " 9,\n",
       " 5,\n",
       " 0,\n",
       " 0,\n",
       " 4,\n",
       " 6,\n",
       " 5,\n",
       " 5,\n",
       " 9,\n",
       " 8,\n",
       " 7,\n",
       " 6,\n",
       " 8,\n",
       " 3,\n",
       " 9,\n",
       " 3,\n",
       " 7,\n",
       " 6,\n",
       " 6,\n",
       " 1,\n",
       " 9,\n",
       " 9,\n",
       " 7,\n",
       " 3,\n",
       " 0,\n",
       " 7,\n",
       " 0,\n",
       " 6,\n",
       " 3,\n",
       " 5,\n",
       " 1,\n",
       " 2,\n",
       " 6,\n",
       " 9,\n",
       " 3,\n",
       " 7,\n",
       " 5,\n",
       " 1,\n",
       " 0,\n",
       " 1,\n",
       " 3,\n",
       " 2,\n",
       " 8,\n",
       " 0,\n",
       " 0,\n",
       " 8,\n",
       " 6,\n",
       " 3,\n",
       " 4,\n",
       " 2,\n",
       " 7,\n",
       " 0,\n",
       " 3,\n",
       " 0,\n",
       " 7,\n",
       " 5,\n",
       " 6,\n",
       " 5,\n",
       " 7,\n",
       " 5,\n",
       " 1,\n",
       " 7,\n",
       " 8,\n",
       " 7,\n",
       " 9,\n",
       " 1,\n",
       " 1,\n",
       " 4,\n",
       " 9,\n",
       " 1,\n",
       " 6,\n",
       " 5,\n",
       " 6,\n",
       " 6,\n",
       " 7,\n",
       " 7,\n",
       " 8,\n",
       " 7,\n",
       " 0,\n",
       " 4,\n",
       " 6,\n",
       " 5,\n",
       " 8,\n",
       " 6,\n",
       " 2,\n",
       " 4,\n",
       " 1,\n",
       " 1,\n",
       " 7,\n",
       " 8,\n",
       " 1,\n",
       " 1,\n",
       " 3,\n",
       " 3,\n",
       " 8,\n",
       " 7,\n",
       " 7,\n",
       " 6,\n",
       " 5,\n",
       " 0,\n",
       " 0,\n",
       " 0,\n",
       " 6,\n",
       " 0,\n",
       " 7,\n",
       " 6,\n",
       " 6,\n",
       " 8,\n",
       " 0,\n",
       " 4,\n",
       " 6,\n",
       " 4,\n",
       " 1,\n",
       " 0,\n",
       " 2,\n",
       " 9,\n",
       " 2,\n",
       " 3,\n",
       " 4,\n",
       " 6,\n",
       " 6,\n",
       " 5,\n",
       " 2,\n",
       " 4,\n",
       " 6,\n",
       " 2,\n",
       " 7,\n",
       " 3,\n",
       " 9,\n",
       " 9,\n",
       " 9,\n",
       " 6,\n",
       " 7,\n",
       " 6,\n",
       " 1,\n",
       " 9,\n",
       " 3,\n",
       " 4,\n",
       " 3,\n",
       " 2,\n",
       " 0,\n",
       " 3,\n",
       " 4,\n",
       " 4,\n",
       " 0,\n",
       " 9,\n",
       " 2,\n",
       " 0,\n",
       " 4,\n",
       " 3,\n",
       " 7,\n",
       " 1,\n",
       " 9,\n",
       " 7,\n",
       " 6,\n",
       " 4,\n",
       " 5,\n",
       " 1,\n",
       " 8,\n",
       " 0,\n",
       " 2,\n",
       " 6,\n",
       " 7,\n",
       " 8,\n",
       " 7,\n",
       " 2,\n",
       " 5,\n",
       " 6,\n",
       " 6,\n",
       " 1,\n",
       " 4,\n",
       " 7,\n",
       " 6,\n",
       " 9,\n",
       " 5,\n",
       " 1,\n",
       " 6,\n",
       " 6,\n",
       " 9,\n",
       " 6,\n",
       " 8,\n",
       " 3,\n",
       " 1,\n",
       " 1,\n",
       " 7,\n",
       " 3,\n",
       " 1,\n",
       " 8,\n",
       " 7,\n",
       " 3,\n",
       " 2,\n",
       " 6,\n",
       " 6,\n",
       " 2,\n",
       " 0,\n",
       " 1,\n",
       " 2,\n",
       " 0,\n",
       " 8,\n",
       " 3,\n",
       " 3,\n",
       " 5,\n",
       " 9,\n",
       " 9,\n",
       " 1,\n",
       " 6,\n",
       " 9,\n",
       " 2,\n",
       " 1,\n",
       " 9,\n",
       " 2,\n",
       " 0,\n",
       " 6,\n",
       " 3,\n",
       " 9,\n",
       " 8,\n",
       " 7,\n",
       " 3,\n",
       " 9,\n",
       " 6,\n",
       " 9,\n",
       " 9,\n",
       " 1,\n",
       " 6,\n",
       " 9,\n",
       " 8,\n",
       " 4,\n",
       " 8,\n",
       " 0,\n",
       " 0,\n",
       " 0,\n",
       " 9,\n",
       " 0,\n",
       " 5,\n",
       " 8,\n",
       " 5,\n",
       " 7,\n",
       " 1,\n",
       " 0,\n",
       " 0,\n",
       " 3,\n",
       " 3,\n",
       " 2,\n",
       " 9,\n",
       " 1,\n",
       " 7,\n",
       " 4,\n",
       " 1,\n",
       " 1,\n",
       " 8,\n",
       " 0,\n",
       " 6,\n",
       " 4,\n",
       " 3,\n",
       " 2,\n",
       " 3,\n",
       " 3,\n",
       " 8,\n",
       " 7,\n",
       " 3,\n",
       " 4,\n",
       " 6,\n",
       " 7,\n",
       " 9,\n",
       " 1,\n",
       " 8,\n",
       " 4,\n",
       " 3,\n",
       " 3,\n",
       " 7,\n",
       " 3,\n",
       " 2,\n",
       " 4,\n",
       " 1,\n",
       " 7,\n",
       " 5,\n",
       " 3,\n",
       " 4,\n",
       " 9,\n",
       " 6,\n",
       " 3,\n",
       " 3,\n",
       " 9,\n",
       " 8,\n",
       " 1,\n",
       " 0,\n",
       " 6,\n",
       " 1,\n",
       " 2,\n",
       " 3,\n",
       " 7,\n",
       " 4,\n",
       " 2,\n",
       " 5,\n",
       " 3,\n",
       " 8,\n",
       " 4,\n",
       " 7,\n",
       " 3,\n",
       " 5,\n",
       " 1,\n",
       " 4,\n",
       " 8,\n",
       " 3,\n",
       " 7,\n",
       " 3,\n",
       " 2,\n",
       " 3,\n",
       " 6,\n",
       " 1,\n",
       " 1,\n",
       " 8,\n",
       " 2,\n",
       " 1,\n",
       " 6,\n",
       " 2,\n",
       " 3,\n",
       " 8,\n",
       " 5,\n",
       " 6,\n",
       " 8,\n",
       " 9,\n",
       " 4,\n",
       " 9,\n",
       " 3,\n",
       " 0,\n",
       " 1,\n",
       " 2,\n",
       " 1,\n",
       " 8,\n",
       " 8,\n",
       " 0,\n",
       " 6,\n",
       " 6,\n",
       " 0,\n",
       " 2,\n",
       " 9,\n",
       " 0,\n",
       " 6,\n",
       " 8,\n",
       " 2,\n",
       " 9,\n",
       " 0,\n",
       " 7,\n",
       " 5,\n",
       " 1,\n",
       " 4,\n",
       " 5,\n",
       " 2,\n",
       " 2,\n",
       " 5,\n",
       " 9,\n",
       " 1,\n",
       " 9,\n",
       " 7,\n",
       " 7,\n",
       " 4,\n",
       " 4,\n",
       " 2,\n",
       " 4,\n",
       " 3,\n",
       " 9,\n",
       " 2,\n",
       " 3,\n",
       " 0,\n",
       " 5,\n",
       " 2,\n",
       " 3,\n",
       " 9,\n",
       " 7,\n",
       " 8,\n",
       " 0,\n",
       " 6,\n",
       " 3,\n",
       " 0,\n",
       " 9,\n",
       " 4,\n",
       " 7,\n",
       " ...]"
      ]
     },
     "execution_count": 40,
     "metadata": {},
     "output_type": "execute_result"
    }
   ],
   "source": [
    "predicted_classes"
   ]
  }
 ],
 "metadata": {
  "kernelspec": {
   "display_name": "Python 3",
   "language": "python",
   "name": "python3"
  },
  "language_info": {
   "codemirror_mode": {
    "name": "ipython",
    "version": 3
   },
   "file_extension": ".py",
   "mimetype": "text/x-python",
   "name": "python",
   "nbconvert_exporter": "python",
   "pygments_lexer": "ipython3",
   "version": "3.6.6"
  },
  "nbclean": true
 },
 "nbformat": 4,
 "nbformat_minor": 4
}
